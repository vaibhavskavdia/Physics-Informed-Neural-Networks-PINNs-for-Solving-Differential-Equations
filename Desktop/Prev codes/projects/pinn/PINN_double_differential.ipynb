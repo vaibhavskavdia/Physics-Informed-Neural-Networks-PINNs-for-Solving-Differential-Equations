{
 "cells": [
  {
   "cell_type": "code",
   "execution_count": 83,
   "id": "e0b2cc67-1de0-4915-bd55-d28d4dfeffa3",
   "metadata": {},
   "outputs": [],
   "source": [
    "import tensorflow as tf\n",
    "import numpy as np"
   ]
  },
  {
   "cell_type": "code",
   "execution_count": 84,
   "id": "400b2cec-c7c7-451f-a51c-b9c190588849",
   "metadata": {},
   "outputs": [],
   "source": [
    "#Defining NN for approximating u(x)\n",
    "class PINN(tf.keras.Model):\n",
    "    def __init__(self):\n",
    "        super(PINN, self).__init__()\n",
    "        self.dense1 = tf.keras.layers.Dense(20, activation='tanh')\n",
    "        self.dense2 = tf.keras.layers.Dense(20, activation='tanh')\n",
    "        self.dense3 = tf.keras.layers.Dense(1)  # Output is u(x)\n",
    "\n",
    "    def call(self, x):\n",
    "        u = self.dense1(x)\n",
    "        u = self.dense2(u)\n",
    "        return self.dense3(u)"
   ]
  },
  {
   "cell_type": "code",
   "execution_count": 87,
   "id": "1b92b7e1-7897-4bb5-a782-6a05a5703b91",
   "metadata": {},
   "outputs": [],
   "source": [
    "#Defining the loss function to enforce the differential equation\n",
    "def loss_fn(model, x, f_x):\n",
    "    with tf.GradientTape(persistent=True) as tape:\n",
    "        #Forward pass: Compute u(x)\n",
    "        u = model(x)\n",
    "\n",
    "        #Computing the first derivative du/dx\n",
    "        du_dx = tape.gradient(u, x)\n",
    "\n",
    "        #Computing the second derivative d2u/dx2\n",
    "        d2u_dx2 = tape.gradient(du_dx, x)\n",
    "\n",
    "    #Physics loss: Enforce the differential equation d2u/dx2 = f(x)\n",
    "    physics_loss = tf.reduce_mean(tf.square(d2u_dx2 - f_x))\n",
    "\n",
    "    return physics_loss"
   ]
  },
  {
   "cell_type": "code",
   "execution_count": 88,
   "id": "165b783a-c42e-4b2b-bd4a-efbebe17b509",
   "metadata": {},
   "outputs": [],
   "source": [
    "#Training step for PINN\n",
    "def train_step(model, x, f_x, optimizer):\n",
    "    with tf.GradientTape() as tape:\n",
    "        loss = loss_fn(model, x, f_x)\n",
    "    gradients = tape.gradient(loss, model.trainable_variables)\n",
    "    optimizer.apply_gradients(zip(gradients, model.trainable_variables))\n",
    "    return loss"
   ]
  },
  {
   "cell_type": "code",
   "execution_count": 89,
   "id": "414dcd03-e4ba-4992-a7fd-67280f0a7370",
   "metadata": {},
   "outputs": [],
   "source": [
    "#force function f(x),can be modified as per the specific differential equation\n",
    "def force_function(x):\n",
    "    return -np.sin(x)  # Example: f(x) = -sin(x)"
   ]
  },
  {
   "cell_type": "code",
   "execution_count": 93,
   "id": "64dc6268-8fa0-427e-87d0-49e76633ce24",
   "metadata": {},
   "outputs": [],
   "source": [
    "#Generating training data (input x points)\n",
    "x_train = tf.Variable(np.linspace(0, np.pi, 100)[:, None], dtype=tf.float32)"
   ]
  },
  {
   "cell_type": "code",
   "execution_count": 94,
   "id": "dd16038e-2d64-4450-b259-40547cf9d433",
   "metadata": {},
   "outputs": [],
   "source": [
    "#Computing f(x) values for training\n",
    "f_x_train = force_function(x_train)"
   ]
  },
  {
   "cell_type": "code",
   "execution_count": 97,
   "id": "fe2fe57e-afe6-458b-9ce0-c38a033260e1",
   "metadata": {},
   "outputs": [],
   "source": [
    "#NN model\n",
    "model = PINN()\n",
    "optimizer = tf.keras.optimizers.Adam(learning_rate=1e-3)"
   ]
  },
  {
   "cell_type": "code",
   "execution_count": 99,
   "id": "baa3a3de-6081-47d1-a06e-16f866627fe4",
   "metadata": {},
   "outputs": [
    {
     "name": "stderr",
     "output_type": "stream",
     "text": [
      "/opt/anaconda3/lib/python3.11/site-packages/keras/src/optimizers/base_optimizer.py:664: UserWarning: Gradients do not exist for variables ['bias'] when minimizing the loss. If using `model.compile()`, did you forget to provide a `loss` argument?\n",
      "  warnings.warn(\n"
     ]
    },
    {
     "name": "stdout",
     "output_type": "stream",
     "text": [
      "Epoch 0, Loss: 0.5375649333000183\n",
      "Epoch 100, Loss: 0.022655807435512543\n",
      "Epoch 200, Loss: 0.01330878958106041\n",
      "Epoch 300, Loss: 0.010656683705747128\n",
      "Epoch 400, Loss: 0.007289452478289604\n",
      "Epoch 500, Loss: 0.005086445715278387\n",
      "Epoch 600, Loss: 0.004028477240353823\n",
      "Epoch 700, Loss: 0.002952555427327752\n",
      "Epoch 800, Loss: 0.0021320125088095665\n",
      "Epoch 900, Loss: 0.00157811283133924\n"
     ]
    }
   ],
   "source": [
    "#Training loop\n",
    "epochs = 1000\n",
    "for epoch in range(epochs):\n",
    "    loss = train_step(model, x_train, f_x_train, optimizer)\n",
    "    \n",
    "    if epoch % 100 == 0:\n",
    "        print(f'Epoch {epoch}, Loss: {loss.numpy()}')"
   ]
  },
  {
   "cell_type": "code",
   "execution_count": 100,
   "id": "c782a6c9-4da3-4045-8677-78bfedfb1271",
   "metadata": {},
   "outputs": [
    {
     "name": "stdout",
     "output_type": "stream",
     "text": [
      "[[0.95480376]\n",
      " [1.018317  ]\n",
      " [1.0818101 ]\n",
      " [1.1452512 ]\n",
      " [1.2086086 ]\n",
      " [1.2718506 ]\n",
      " [1.334944  ]\n",
      " [1.3978562 ]\n",
      " [1.4605541 ]\n",
      " [1.5230047 ]\n",
      " [1.585175  ]\n",
      " [1.6470317 ]\n",
      " [1.7085422 ]\n",
      " [1.7696742 ]\n",
      " [1.8303955 ]\n",
      " [1.8906746 ]\n",
      " [1.9504807 ]\n",
      " [2.009784  ]\n",
      " [2.0685546 ]\n",
      " [2.126765  ]\n",
      " [2.1843872 ]\n",
      " [2.241395  ]\n",
      " [2.2977633 ]\n",
      " [2.353468  ]\n",
      " [2.4084861 ]\n",
      " [2.4627957 ]\n",
      " [2.5163767 ]\n",
      " [2.5692089 ]\n",
      " [2.6212742 ]\n",
      " [2.672555  ]\n",
      " [2.7230349 ]\n",
      " [2.7726984 ]\n",
      " [2.8215308 ]\n",
      " [2.8695173 ]\n",
      " [2.9166455 ]\n",
      " [2.9629018 ]\n",
      " [3.0082743 ]\n",
      " [3.052751  ]\n",
      " [3.0963204 ]\n",
      " [3.138971  ]\n",
      " [3.1806931 ]\n",
      " [3.2214746 ]\n",
      " [3.2613068 ]\n",
      " [3.300179  ]\n",
      " [3.3380818 ]\n",
      " [3.3750072 ]\n",
      " [3.410946  ]\n",
      " [3.445891  ]\n",
      " [3.4798346 ]\n",
      " [3.5127711 ]\n",
      " [3.5446956 ]\n",
      " [3.575604  ]\n",
      " [3.6054928 ]\n",
      " [3.6343615 ]\n",
      " [3.6622095 ]\n",
      " [3.6890373 ]\n",
      " [3.7148495 ]\n",
      " [3.7396493 ]\n",
      " [3.7634428 ]\n",
      " [3.7862382 ]\n",
      " [3.8080451 ]\n",
      " [3.8288748 ]\n",
      " [3.8487403 ]\n",
      " [3.867655  ]\n",
      " [3.8856359 ]\n",
      " [3.9027004 ]\n",
      " [3.9188666 ]\n",
      " [3.934155  ]\n",
      " [3.9485874 ]\n",
      " [3.9621854 ]\n",
      " [3.974972  ]\n",
      " [3.9869728 ]\n",
      " [3.998211  ]\n",
      " [4.008713  ]\n",
      " [4.0185037 ]\n",
      " [4.02761   ]\n",
      " [4.0360584 ]\n",
      " [4.0438747 ]\n",
      " [4.0510864 ]\n",
      " [4.057719  ]\n",
      " [4.063799  ]\n",
      " [4.069353  ]\n",
      " [4.0744057 ]\n",
      " [4.0789833 ]\n",
      " [4.0831094 ]\n",
      " [4.086809  ]\n",
      " [4.090106  ]\n",
      " [4.0930233 ]\n",
      " [4.0955825 ]\n",
      " [4.097806  ]\n",
      " [4.0997143 ]\n",
      " [4.1013284 ]\n",
      " [4.102667  ]\n",
      " [4.1037498 ]\n",
      " [4.104594  ]\n",
      " [4.105217  ]\n",
      " [4.1056356 ]\n",
      " [4.105865  ]\n",
      " [4.105921  ]\n",
      " [4.105817  ]]\n"
     ]
    }
   ],
   "source": [
    "#Prediction\n",
    "x_test = tf.convert_to_tensor(np.linspace(0, np.pi, 100)[:, None], dtype=tf.float32)\n",
    "x_test_tensor = tf.convert_to_tensor(x_test) \n",
    "u_pred = model(x_test)\n",
    "print(u_pred.numpy()) \n",
    "#u_pred is the NN's approximation of the solution u(x)"
   ]
  },
  {
   "cell_type": "code",
   "execution_count": 81,
   "id": "cf2b7386-2d0e-4781-8c64-7f7951e0529a",
   "metadata": {},
   "outputs": [
    {
     "data": {
      "image/png": "[encoded data removed]",
      "text/plain": [
       "<Figure size 640x480 with 1 Axes>"
      ]
     },
     "metadata": {},
     "output_type": "display_data"
    }
   ],
   "source": [
    "import matplotlib.pyplot as plt\n",
    "#Plotting predicted u(x)\n",
    "plt.plot(x_test, u_pred.numpy(), label='Predicted u(x)', color='b')\n",
    "plt.xlabel('x')\n",
    "plt.ylabel('u(x)')\n",
    "plt.title('Predicted u(x) using PINN')\n",
    "plt.legend()\n",
    "plt.show()\n"
   ]
  },
  {
   "cell_type": "code",
   "execution_count": null,
   "id": "c656c775-746f-4934-96c5-2d3edf800b17",
   "metadata": {},
   "outputs": [],
   "source": []
  }
 ],
 "metadata": {
  "kernelspec": {
   "display_name": "Python 3 (ipykernel)",
   "language": "python",
   "name": "python3"
  },
  "language_info": {
   "codemirror_mode": {
    "name": "ipython",
    "version": 3
   },
   "file_extension": ".py",
   "mimetype": "text/x-python",
   "name": "python",
   "nbconvert_exporter": "python",
   "pygments_lexer": "ipython3",
   "version": "3.11.7"
  }
 },
 "nbformat": 4,
 "nbformat_minor": 5
}
